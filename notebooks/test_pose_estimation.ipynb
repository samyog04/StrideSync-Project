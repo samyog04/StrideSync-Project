{
 "cells": [
  {
   "cell_type": "code",
   "execution_count": null,
   "id": "46d12fb0",
   "metadata": {
    "vscode": {
     "languageId": "plaintext"
    }
   },
   "outputs": [],
   "source": [
    "{\"cells\": [\n",
    "    {\"cell_type\": \"markdown\", \"metadata\": {}, \"source\": [\"## Pose Estimation Testing\"]},\n",
    "    {\"cell_type\": \"code\", \"execution_count\": null, \"metadata\": {}, \"outputs\": [], \"source\": [\n",
    "        \"from models.pose_estimator import PoseEstimator\\n\",\n",
    "        \"import cv2\\n\",\n",
    "        \"\\n\",\n",
    "        \"pose_estimator = PoseEstimator()\\n\",\n",
    "        \"cap = cv2.VideoCapture(0)\\n\",\n",
    "        \"\\n\",\n",
    "        \"while cap.isOpened():\\n\",\n",
    "        \"    ret, frame = cap.read()\\n\",\n",
    "        \"    if not ret:\\n\",\n",
    "        \"        break\\n\",\n",
    "        \"    results = pose_estimator.detect_pose(frame)\\n\",\n",
    "        \"    cv2.imshow('Pose', frame)\\n\",\n",
    "        \"    if cv2.waitKey(10) & 0xFF == ord('q'):\\n\",\n",
    "        \"        break\\n\",\n",
    "        \"\\n\",\n",
    "        \"cap.release()\\n\",\n",
    "        \"cv2.destroyAllWindows()\"]}\n",
    "],\n",
    "\"metadata\": {},\n",
    "\"nbformat\": 4,\n",
    "\"nbformat_minor\": 2}"
   ]
  }
 ],
 "metadata": {
  "language_info": {
   "name": "python"
  }
 },
 "nbformat": 4,
 "nbformat_minor": 5
}
